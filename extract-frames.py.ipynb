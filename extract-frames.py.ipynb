{
 "cells": [
  {
   "cell_type": "markdown",
   "metadata": {},
   "source": [
    "This bit of code assumes you have a copy of **This is ACORN** downloaded to your computer and it's in the `videos` directory. We're going to use [OpenCV](http://opencv-python-tutroals.readthedocs.io/) extract the frames in the video to the frames directory.\n",
    "\n",
    "Rather than extracting every frame we use the total frame count for the video to determine how to extract 1000 \n",
    "frames evenly over the entire file. Dependning on your use case you might want to extract every single farme. But fo this experiment we decied to just get 1000 frames, evenly spaced across the entire video."
   ]
  },
  {
   "cell_type": "code",
   "execution_count": null,
   "metadata": {
    "collapsed": false
   },
   "outputs": [],
   "source": [
    "import cv2\n",
    "\n",
    "v = cv2.VideoCapture(\"videos/this-is-acorn.mp4\")\n",
    "\n",
    "frame_count = v.get(cv2.CAP_PROP_FRAME_COUNT)\n",
    "frame_skip = int(frame_count / 1000)"
   ]
  },
  {
   "cell_type": "markdown",
   "metadata": {},
   "source": [
    "Now we can go through the frames and write them out as images to the `frames` directory:"
   ]
  },
  {
   "cell_type": "code",
   "execution_count": null,
   "metadata": {
    "collapsed": true
   },
   "outputs": [],
   "source": [
    "count = 0\n",
    "\n",
    "while True:\n",
    "\n",
    "    for i in range(0, frame_skip):\n",
    "        count += 1\n",
    "        v.grab()\n",
    "\n",
    "    count += 1\n",
    "    frame_read, frame = v.read()\n",
    "    if not frame_read:\n",
    "        break\n",
    "\n",
    "    filename = \"frames/this-is-acorn-%05i.jpg\" % count\n",
    "    img_written = cv2.imwrite(filename, frame)\n",
    "    if not img_written:\n",
    "        break"
   ]
  },
  {
   "cell_type": "markdown",
   "metadata": {
    "collapsed": true
   },
   "source": [
    "Let's pick a random image frame from the `frames` directory and display it."
   ]
  },
  {
   "cell_type": "code",
   "execution_count": null,
   "metadata": {
    "collapsed": false
   },
   "outputs": [],
   "source": [
    "import glob, random\n",
    "from IPython.display import Image\n",
    "\n",
    "def display_ranndom_image():\n",
    "    images = glob.glob(\"frames/*.jpg\")\n",
    "    image_file = images[random.randint(0, len(images) - 1)]\n",
    "    1Image(filename=image_file)\n"
   ]
  },
  {
   "cell_type": "code",
   "execution_count": null,
   "metadata": {
    "collapsed": false
   },
   "outputs": [],
   "source": []
  },
  {
   "cell_type": "code",
   "execution_count": null,
   "metadata": {
    "collapsed": true
   },
   "outputs": [],
   "source": []
  }
 ],
 "metadata": {
  "kernelspec": {
   "display_name": "Python 3",
   "language": "python",
   "name": "python3"
  },
  "language_info": {
   "codemirror_mode": {
    "name": "ipython",
    "version": 3
   },
   "file_extension": ".py",
   "mimetype": "text/x-python",
   "name": "python",
   "nbconvert_exporter": "python",
   "pygments_lexer": "ipython3",
   "version": "3.5.2"
  }
 },
 "nbformat": 4,
 "nbformat_minor": 2
}
